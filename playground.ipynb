{
 "cells": [
  {
   "cell_type": "code",
   "execution_count": 4,
   "id": "a2d6df63",
   "metadata": {},
   "outputs": [
    {
     "name": "stdout",
     "output_type": "stream",
     "text": [
      "['AEC', 'APNG', 'AVIF', 'AecError', 'ApngError', 'AvifError', 'BCN', 'BITORDER', 'BITSHUFFLE', 'BLOSC', 'BLOSC2', 'BMP', 'BROTLI', 'BRUNSLI', 'BYTESHUFFLE', 'BZ2', 'BcnError', 'BitorderError', 'BitshuffleError', 'Blosc2Error', 'BloscError', 'BmpError', 'BrotliError', 'BrunsliError', 'ByteshuffleError', 'Bz2Error', 'CMS', 'CmsError', 'DDS', 'DEFLATE', 'DELTA', 'DICOMRLE', 'DdsError', 'DeflateError', 'DelayedImportError', 'DeltaError', 'DicomrleError', 'EER', 'EerError', 'FLOAT24', 'FLOATPRED', 'Float24Error', 'FloatpredError', 'GIF', 'GZIP', 'GifError', 'GzipError', 'H5CHECKSUM', 'HEIF', 'HeifError', 'JETRAW', 'JPEG', 'JPEG', 'JPEG2K', 'JPEG8', 'JPEGLS', 'JPEGSOF3', 'JPEGXL', 'JPEGXR', 'JPEGXS', 'JetrawError', 'Jpeg2kError', 'Jpeg8Error', 'JpegError', 'JpegError', 'JpeglsError', 'Jpegsof3Error', 'JpegxlError', 'JpegxrError', 'JpegxsError', 'LERC', 'LJPEG', 'LZ4', 'LZ4F', 'LZ4H5', 'LZF', 'LZFSE', 'LZHAM', 'LZMA', 'LZO', 'LZW', 'LercError', 'LjpegError', 'Lz4Error', 'Lz4fError', 'Lz4h5Error', 'LzfError', 'LzfseError', 'LzhamError', 'LzmaError', 'LzoError', 'LzwError', 'MOZJPEG', 'MozjpegError', 'NONE', 'NUMPY', 'NoneError', 'NumpyError', 'PACKBITS', 'PACKINTS', 'PCODEC', 'PGLZ', 'PNG', 'PackbitsError', 'PackintsError', 'PcodecError', 'PglzError', 'PngError', 'QOI', 'QUANTIZE', 'QoiError', 'QuantizeError', 'RCOMP', 'RGBE', 'RcompError', 'RgbeError', 'SNAPPY', 'SPERR', 'SPNG', 'SZ3', 'SZIP', 'SnappyError', 'SperrError', 'SpngError', 'Sz3Error', 'SzipError', 'TIFF', 'TiffError', 'ULTRAHDR', 'UltrahdrError', 'WEBP', 'WebpError', 'XOR', 'XorError', 'ZFP', 'ZLIB', 'ZLIBNG', 'ZOPFLI', 'ZSTD', 'ZfpError', 'ZlibError', 'ZlibngError', 'ZopfliError', 'ZstdError', '__version__', 'aec_check', 'aec_decode', 'aec_encode', 'aec_version', 'apng_check', 'apng_decode', 'apng_encode', 'apng_version', 'avif_check', 'avif_decode', 'avif_encode', 'avif_version', 'bcn_check', 'bcn_decode', 'bcn_encode', 'bcn_version', 'bitorder_check', 'bitorder_decode', 'bitorder_encode', 'bitorder_version', 'bitshuffle_check', 'bitshuffle_decode', 'bitshuffle_encode', 'bitshuffle_version', 'blosc2_check', 'blosc2_decode', 'blosc2_encode', 'blosc2_version', 'blosc_check', 'blosc_decode', 'blosc_encode', 'blosc_version', 'bmp_check', 'bmp_decode', 'bmp_encode', 'bmp_version', 'brotli_check', 'brotli_decode', 'brotli_encode', 'brotli_version', 'brunsli_check', 'brunsli_decode', 'brunsli_encode', 'brunsli_version', 'byteshuffle_check', 'byteshuffle_decode', 'byteshuffle_encode', 'byteshuffle_version', 'bz2_check', 'bz2_decode', 'bz2_encode', 'bz2_version', 'cms_check', 'cms_decode', 'cms_encode', 'cms_profile', 'cms_profile_validate', 'cms_transform', 'cms_version', 'cython_version', 'dds_check', 'dds_decode', 'dds_encode', 'dds_version', 'deflate_adler32', 'deflate_check', 'deflate_crc32', 'deflate_decode', 'deflate_encode', 'deflate_version', 'delta_check', 'delta_decode', 'delta_encode', 'delta_version', 'dicomrle_check', 'dicomrle_decode', 'dicomrle_encode', 'dicomrle_version', 'eer_check', 'eer_decode', 'eer_encode', 'eer_version', 'float24_check', 'float24_decode', 'float24_encode', 'float24_version', 'floatpred_check', 'floatpred_decode', 'floatpred_encode', 'floatpred_version', 'gif_check', 'gif_decode', 'gif_encode', 'gif_version', 'gzip_check', 'gzip_decode', 'gzip_encode', 'gzip_version', 'h5checksum_crc', 'h5checksum_fletcher32', 'h5checksum_hash_string', 'h5checksum_lookup3', 'h5checksum_metadata', 'h5checksum_version', 'heif_check', 'heif_decode', 'heif_encode', 'heif_version', 'imagefileext', 'imcd_version', 'imread', 'imwrite', 'j2k_decode', 'j2k_encode', 'jetraw_check', 'jetraw_decode', 'jetraw_encode', 'jetraw_init', 'jetraw_version', 'jpeg2k_check', 'jpeg2k_decode', 'jpeg2k_encode', 'jpeg2k_version', 'jpeg8_check', 'jpeg8_decode', 'jpeg8_encode', 'jpeg8_version', 'jpeg_check', 'jpeg_check', 'jpeg_decode', 'jpeg_encode', 'jpeg_version', 'jpeg_version', 'jpegls_check', 'jpegls_decode', 'jpegls_encode', 'jpegls_version', 'jpegsof3_check', 'jpegsof3_decode', 'jpegsof3_encode', 'jpegsof3_version', 'jpegxl_check', 'jpegxl_decode', 'jpegxl_decode_jpeg', 'jpegxl_encode', 'jpegxl_encode_jpeg', 'jpegxl_version', 'jpegxr_check', 'jpegxr_decode', 'jpegxr_encode', 'jpegxr_version', 'jpegxs_check', 'jpegxs_decode', 'jpegxs_encode', 'jpegxs_version', 'jxr_decode', 'jxr_encode', 'lerc_check', 'lerc_decode', 'lerc_encode', 'lerc_version', 'ljpeg_check', 'ljpeg_decode', 'ljpeg_encode', 'ljpeg_version', 'lz4_check', 'lz4_decode', 'lz4_encode', 'lz4_version', 'lz4f_check', 'lz4f_decode', 'lz4f_encode', 'lz4f_version', 'lz4h5_check', 'lz4h5_decode', 'lz4h5_encode', 'lz4h5_version', 'lzf_check', 'lzf_decode', 'lzf_encode', 'lzf_version', 'lzfse_check', 'lzfse_decode', 'lzfse_encode', 'lzfse_version', 'lzham_check', 'lzham_decode', 'lzham_encode', 'lzham_version', 'lzma_check', 'lzma_decode', 'lzma_encode', 'lzma_version', 'lzo_check', 'lzo_decode', 'lzo_encode', 'lzo_version', 'lzw_check', 'lzw_decode', 'lzw_encode', 'lzw_version', 'mozjpeg_check', 'mozjpeg_decode', 'mozjpeg_encode', 'mozjpeg_version', 'none_check', 'none_decode', 'none_encode', 'none_version', 'numpy_abi_version', 'numpy_check', 'numpy_decode', 'numpy_encode', 'numpy_version', 'packbits_check', 'packbits_decode', 'packbits_encode', 'packbits_version', 'packints_check', 'packints_decode', 'packints_encode', 'packints_version', 'pcodec_check', 'pcodec_decode', 'pcodec_encode', 'pcodec_version', 'pglz_check', 'pglz_decode', 'pglz_encode', 'pglz_version', 'png_check', 'png_decode', 'png_encode', 'png_version', 'qoi_check', 'qoi_decode', 'qoi_encode', 'qoi_version', 'quantize_check', 'quantize_decode', 'quantize_encode', 'quantize_version', 'rcomp_check', 'rcomp_decode', 'rcomp_encode', 'rcomp_version', 'rgbe_check', 'rgbe_decode', 'rgbe_encode', 'rgbe_version', 'snappy_check', 'snappy_decode', 'snappy_encode', 'snappy_version', 'sperr_check', 'sperr_decode', 'sperr_encode', 'sperr_version', 'spng_check', 'spng_decode', 'spng_encode', 'spng_version', 'sz3_check', 'sz3_decode', 'sz3_encode', 'sz3_version', 'szip_check', 'szip_decode', 'szip_encode', 'szip_params', 'szip_version', 'tiff_check', 'tiff_decode', 'tiff_encode', 'tiff_version', 'ultrahdr_check', 'ultrahdr_decode', 'ultrahdr_encode', 'ultrahdr_version', 'version', 'webp_check', 'webp_decode', 'webp_encode', 'webp_version', 'xor_check', 'xor_decode', 'xor_encode', 'xor_version', 'zfp_check', 'zfp_decode', 'zfp_encode', 'zfp_version', 'zlib_adler32', 'zlib_check', 'zlib_crc32', 'zlib_decode', 'zlib_encode', 'zlib_version', 'zlibng_adler32', 'zlibng_check', 'zlibng_crc32', 'zlibng_decode', 'zlibng_encode', 'zlibng_version', 'zopfli_check', 'zopfli_check', 'zopfli_decode', 'zopfli_decode', 'zopfli_encode', 'zopfli_version', 'zstd_check', 'zstd_decode', 'zstd_encode', 'zstd_version']\n",
      "Decoded JXR shape: (1440, 2560, 4) dtype: float32\n"
     ]
    }
   ],
   "source": [
    "import imagecodecs\n",
    "\n",
    "# Check what codecs are available\n",
    "print(dir(imagecodecs))\n",
    "\n",
    "# Try to decode a JXR file\n",
    "with open(\"test_hdr\\h_1000000_17.jxr\", \"rb\") as f:\n",
    "    data = f.read()\n",
    "\n",
    "try:\n",
    "    img = imagecodecs.jpegxr_decode(data)\n",
    "    print(\"Decoded JXR shape:\", img.shape, \"dtype:\", img.dtype)\n",
    "except Exception as e:\n",
    "    print(\"Failed to decode JXR:\", e)\n"
   ]
  },
  {
   "cell_type": "code",
   "execution_count": 8,
   "id": "b531c439",
   "metadata": {},
   "outputs": [],
   "source": [
    "import imagecodecs\n",
    "import imageio\n",
    "import numpy as np\n",
    "from pathlib import Path\n",
    "\n",
    "def jxr_to_exr(jxr_path, exr_path):\n",
    "    \"\"\"Convert a single JXR file to EXR.\"\"\"\n",
    "    with open(jxr_path, \"rb\") as f:\n",
    "        data = f.read()\n",
    "    img = imagecodecs.jpegxr_decode(data)\n",
    "\n",
    "    # Convert to float32 for EXR\n",
    "    if img.dtype != np.float32:\n",
    "        img = img.astype(np.float32)\n",
    "\n",
    "    imageio.imwrite(exr_path, img, format=\"EXR\")\n",
    "    return exr_path\n",
    "\n",
    "def batch_convert_jxr_to_exr(input_path, output_dir=None):\n",
    "    \"\"\"\n",
    "    Convert either a single JXR file or all JXR files in a folder to EXR.\n",
    "    - input_path: str or Path, file or directory\n",
    "    - output_dir: optional str or Path where EXRs will be saved\n",
    "    \"\"\"\n",
    "    input_path = Path(input_path)\n",
    "\n",
    "    if output_dir is None:\n",
    "        output_dir = input_path.parent if input_path.is_file() else input_path\n",
    "    output_dir = Path(output_dir)\n",
    "    output_dir.mkdir(parents=True, exist_ok=True)\n",
    "\n",
    "    converted = []\n",
    "\n",
    "    if input_path.is_file():\n",
    "        out = output_dir / (input_path.stem + \".exr\")\n",
    "        jxr_to_exr(input_path, out)\n",
    "        converted.append(out)\n",
    "    else:\n",
    "        for jxr_file in input_path.glob(\"*.jxr\"):\n",
    "            out = output_dir / (jxr_file.stem + \".exr\")\n",
    "            jxr_to_exr(jxr_file, out)\n",
    "            converted.append(out)\n",
    "\n",
    "    return converted\n",
    "\n"
   ]
  },
  {
   "cell_type": "code",
   "execution_count": 9,
   "id": "a06a610a",
   "metadata": {},
   "outputs": [
    {
     "ename": "TypeError",
     "evalue": "expected bytes, NoneType found",
     "output_type": "error",
     "traceback": [
      "\u001b[31m---------------------------------------------------------------------------\u001b[39m",
      "\u001b[31mTypeError\u001b[39m                                 Traceback (most recent call last)",
      "\u001b[36mCell\u001b[39m\u001b[36m \u001b[39m\u001b[32mIn[9]\u001b[39m\u001b[32m, line 2\u001b[39m\n\u001b[32m      1\u001b[39m \u001b[38;5;66;03m# Convert all JXR files in a folder\u001b[39;00m\n\u001b[32m----> \u001b[39m\u001b[32m2\u001b[39m \u001b[43mbatch_convert_jxr_to_exr\u001b[49m\u001b[43m(\u001b[49m\u001b[33;43m\"\u001b[39;49m\u001b[33;43mtest_hdr\u001b[39;49m\u001b[33;43m\"\u001b[39;49m\u001b[43m,\u001b[49m\u001b[43m \u001b[49m\u001b[43moutput_dir\u001b[49m\u001b[43m=\u001b[49m\u001b[33;43m\"\u001b[39;49m\u001b[33;43mconverted_exr\u001b[39;49m\u001b[33;43m\"\u001b[39;49m\u001b[43m)\u001b[49m\n",
      "\u001b[36mCell\u001b[39m\u001b[36m \u001b[39m\u001b[32mIn[8]\u001b[39m\u001b[32m, line 41\u001b[39m, in \u001b[36mbatch_convert_jxr_to_exr\u001b[39m\u001b[34m(input_path, output_dir)\u001b[39m\n\u001b[32m     39\u001b[39m     \u001b[38;5;28;01mfor\u001b[39;00m jxr_file \u001b[38;5;129;01min\u001b[39;00m input_path.glob(\u001b[33m\"\u001b[39m\u001b[33m*.jxr\u001b[39m\u001b[33m\"\u001b[39m):\n\u001b[32m     40\u001b[39m         out = output_dir / (jxr_file.stem + \u001b[33m\"\u001b[39m\u001b[33m.exr\u001b[39m\u001b[33m\"\u001b[39m)\n\u001b[32m---> \u001b[39m\u001b[32m41\u001b[39m         \u001b[43mjxr_to_exr\u001b[49m\u001b[43m(\u001b[49m\u001b[43mjxr_file\u001b[49m\u001b[43m,\u001b[49m\u001b[43m \u001b[49m\u001b[43mout\u001b[49m\u001b[43m)\u001b[49m\n\u001b[32m     42\u001b[39m         converted.append(out)\n\u001b[32m     44\u001b[39m \u001b[38;5;28;01mreturn\u001b[39;00m converted\n",
      "\u001b[36mCell\u001b[39m\u001b[36m \u001b[39m\u001b[32mIn[8]\u001b[39m\u001b[32m, line 16\u001b[39m, in \u001b[36mjxr_to_exr\u001b[39m\u001b[34m(jxr_path, exr_path)\u001b[39m\n\u001b[32m     13\u001b[39m \u001b[38;5;28;01mif\u001b[39;00m img.dtype != np.float32:\n\u001b[32m     14\u001b[39m     img = img.astype(np.float32)\n\u001b[32m---> \u001b[39m\u001b[32m16\u001b[39m \u001b[43mimageio\u001b[49m\u001b[43m.\u001b[49m\u001b[43mimwrite\u001b[49m\u001b[43m(\u001b[49m\u001b[43mexr_path\u001b[49m\u001b[43m,\u001b[49m\u001b[43m \u001b[49m\u001b[43mimg\u001b[49m\u001b[43m,\u001b[49m\u001b[43m \u001b[49m\u001b[38;5;28;43mformat\u001b[39;49m\u001b[43m=\u001b[49m\u001b[33;43m\"\u001b[39;49m\u001b[33;43mEXR\u001b[39;49m\u001b[33;43m\"\u001b[39;49m\u001b[43m)\u001b[49m\n\u001b[32m     17\u001b[39m \u001b[38;5;28;01mreturn\u001b[39;00m exr_path\n",
      "\u001b[36mFile \u001b[39m\u001b[32mc:\\Users\\dekav\\anaconda3\\envs\\rdr-dataset\\Lib\\site-packages\\imageio\\v2.py:397\u001b[39m, in \u001b[36mimwrite\u001b[39m\u001b[34m(uri, im, format, **kwargs)\u001b[39m\n\u001b[32m    395\u001b[39m imopen_args[\u001b[33m\"\u001b[39m\u001b[33mlegacy_mode\u001b[39m\u001b[33m\"\u001b[39m] = \u001b[38;5;28;01mTrue\u001b[39;00m\n\u001b[32m    396\u001b[39m \u001b[38;5;28;01mwith\u001b[39;00m imopen(uri, \u001b[33m\"\u001b[39m\u001b[33mwi\u001b[39m\u001b[33m\"\u001b[39m, **imopen_args) \u001b[38;5;28;01mas\u001b[39;00m file:\n\u001b[32m--> \u001b[39m\u001b[32m397\u001b[39m     \u001b[38;5;28;01mreturn\u001b[39;00m \u001b[43mfile\u001b[49m\u001b[43m.\u001b[49m\u001b[43mwrite\u001b[49m\u001b[43m(\u001b[49m\u001b[43mim\u001b[49m\u001b[43m,\u001b[49m\u001b[43m \u001b[49m\u001b[43m*\u001b[49m\u001b[43m*\u001b[49m\u001b[43mkwargs\u001b[49m\u001b[43m)\u001b[49m\n",
      "\u001b[36mFile \u001b[39m\u001b[32mc:\\Users\\dekav\\anaconda3\\envs\\rdr-dataset\\Lib\\site-packages\\imageio\\plugins\\pyav.py:674\u001b[39m, in \u001b[36mPyAVPlugin.write\u001b[39m\u001b[34m(self, ndimage, codec, is_batch, fps, in_pixel_format, out_pixel_format, filter_sequence, filter_graph)\u001b[39m\n\u001b[32m    671\u001b[39m     ndimage = np.asarray(ndimage)\n\u001b[32m    673\u001b[39m \u001b[38;5;28;01mif\u001b[39;00m \u001b[38;5;28mself\u001b[39m._video_stream \u001b[38;5;129;01mis\u001b[39;00m \u001b[38;5;28;01mNone\u001b[39;00m:\n\u001b[32m--> \u001b[39m\u001b[32m674\u001b[39m     \u001b[38;5;28;43mself\u001b[39;49m\u001b[43m.\u001b[49m\u001b[43minit_video_stream\u001b[49m\u001b[43m(\u001b[49m\u001b[43mcodec\u001b[49m\u001b[43m,\u001b[49m\u001b[43m \u001b[49m\u001b[43mfps\u001b[49m\u001b[43m=\u001b[49m\u001b[43mfps\u001b[49m\u001b[43m,\u001b[49m\u001b[43m \u001b[49m\u001b[43mpixel_format\u001b[49m\u001b[43m=\u001b[49m\u001b[43mout_pixel_format\u001b[49m\u001b[43m)\u001b[49m\n\u001b[32m    676\u001b[39m \u001b[38;5;28mself\u001b[39m.set_video_filter(filter_sequence, filter_graph)\n\u001b[32m    678\u001b[39m \u001b[38;5;28;01mfor\u001b[39;00m img \u001b[38;5;129;01min\u001b[39;00m ndimage:\n",
      "\u001b[36mFile \u001b[39m\u001b[32mc:\\Users\\dekav\\anaconda3\\envs\\rdr-dataset\\Lib\\site-packages\\imageio\\plugins\\pyav.py:886\u001b[39m, in \u001b[36mPyAVPlugin.init_video_stream\u001b[39m\u001b[34m(self, codec, fps, pixel_format, max_keyframe_interval, force_keyframes)\u001b[39m\n\u001b[32m    850\u001b[39m \u001b[38;5;250m\u001b[39m\u001b[33;03m\"\"\"Initialize a new video stream.\u001b[39;00m\n\u001b[32m    851\u001b[39m \n\u001b[32m    852\u001b[39m \u001b[33;03mThis function adds a new video stream to the ImageResource using the\u001b[39;00m\n\u001b[32m   (...)\u001b[39m\u001b[32m    882\u001b[39m \n\u001b[32m    883\u001b[39m \u001b[33;03m\"\"\"\u001b[39;00m\n\u001b[32m    885\u001b[39m fps = Fraction.from_float(fps)\n\u001b[32m--> \u001b[39m\u001b[32m886\u001b[39m stream = \u001b[38;5;28;43mself\u001b[39;49m\u001b[43m.\u001b[49m\u001b[43m_container\u001b[49m\u001b[43m.\u001b[49m\u001b[43madd_stream\u001b[49m\u001b[43m(\u001b[49m\u001b[43mcodec\u001b[49m\u001b[43m,\u001b[49m\u001b[43m \u001b[49m\u001b[43mfps\u001b[49m\u001b[43m)\u001b[49m\n\u001b[32m    887\u001b[39m stream.time_base = Fraction(\u001b[32m1\u001b[39m / fps).limit_denominator(\u001b[38;5;28mint\u001b[39m(\u001b[32m2\u001b[39m**\u001b[32m16\u001b[39m - \u001b[32m1\u001b[39m))\n\u001b[32m    888\u001b[39m \u001b[38;5;28;01mif\u001b[39;00m pixel_format \u001b[38;5;129;01mis\u001b[39;00m \u001b[38;5;129;01mnot\u001b[39;00m \u001b[38;5;28;01mNone\u001b[39;00m:\n",
      "\u001b[36mFile \u001b[39m\u001b[32mc:\\Users\\dekav\\anaconda3\\envs\\rdr-dataset\\Lib\\site-packages\\av\\container\\output.py:60\u001b[39m, in \u001b[36mav.container.output.OutputContainer.add_stream\u001b[39m\u001b[34m()\u001b[39m\n",
      "\u001b[36mFile \u001b[39m\u001b[32mc:\\Users\\dekav\\anaconda3\\envs\\rdr-dataset\\Lib\\site-packages\\av\\codec\\codec.pyx:85\u001b[39m, in \u001b[36mav.codec.codec.Codec.__cinit__\u001b[39m\u001b[34m()\u001b[39m\n",
      "\u001b[31mTypeError\u001b[39m: expected bytes, NoneType found"
     ]
    }
   ],
   "source": [
    "# Convert all JXR files in a folder\n",
    "batch_convert_jxr_to_exr(\"test_hdr\", output_dir=\"converted_exr\")"
   ]
  },
  {
   "cell_type": "code",
   "execution_count": 1,
   "id": "7d5cd63e",
   "metadata": {},
   "outputs": [
    {
     "name": "stdout",
     "output_type": "stream",
     "text": [
      "['AEC', 'APNG', 'AVIF', 'AecError', 'ApngError', 'AvifError', 'BCN', 'BITORDER', 'BITSHUFFLE', 'BLOSC', 'BLOSC2', 'BMP', 'BROTLI', 'BRUNSLI', 'BYTESHUFFLE', 'BZ2', 'BcnError', 'BitorderError', 'BitshuffleError', 'Blosc2Error', 'BloscError', 'BmpError', 'BrotliError', 'BrunsliError', 'ByteshuffleError', 'Bz2Error', 'CMS', 'CmsError', 'DDS', 'DEFLATE', 'DELTA', 'DICOMRLE', 'DdsError', 'DeflateError', 'DelayedImportError', 'DeltaError', 'DicomrleError', 'EER', 'EerError', 'FLOAT24', 'FLOATPRED', 'Float24Error', 'FloatpredError', 'GIF', 'GZIP', 'GifError', 'GzipError', 'H5CHECKSUM', 'HEIF', 'HeifError', 'JETRAW', 'JPEG', 'JPEG', 'JPEG2K', 'JPEG8', 'JPEGLS', 'JPEGSOF3', 'JPEGXL', 'JPEGXR', 'JPEGXS', 'JetrawError', 'Jpeg2kError', 'Jpeg8Error', 'JpegError', 'JpegError', 'JpeglsError', 'Jpegsof3Error', 'JpegxlError', 'JpegxrError', 'JpegxsError', 'LERC', 'LJPEG', 'LZ4', 'LZ4F', 'LZ4H5', 'LZF', 'LZFSE', 'LZHAM', 'LZMA', 'LZO', 'LZW', 'LercError', 'LjpegError', 'Lz4Error', 'Lz4fError', 'Lz4h5Error', 'LzfError', 'LzfseError', 'LzhamError', 'LzmaError', 'LzoError', 'LzwError', 'MOZJPEG', 'MozjpegError', 'NONE', 'NUMPY', 'NoneError', 'NumpyError', 'PACKBITS', 'PACKINTS', 'PCODEC', 'PGLZ', 'PNG', 'PackbitsError', 'PackintsError', 'PcodecError', 'PglzError', 'PngError', 'QOI', 'QUANTIZE', 'QoiError', 'QuantizeError', 'RCOMP', 'RGBE', 'RcompError', 'RgbeError', 'SNAPPY', 'SPERR', 'SPNG', 'SZ3', 'SZIP', 'SnappyError', 'SperrError', 'SpngError', 'Sz3Error', 'SzipError', 'TIFF', 'TiffError', 'ULTRAHDR', 'UltrahdrError', 'WEBP', 'WebpError', 'XOR', 'XorError', 'ZFP', 'ZLIB', 'ZLIBNG', 'ZOPFLI', 'ZSTD', 'ZfpError', 'ZlibError', 'ZlibngError', 'ZopfliError', 'ZstdError', '__version__', 'aec_check', 'aec_decode', 'aec_encode', 'aec_version', 'apng_check', 'apng_decode', 'apng_encode', 'apng_version', 'avif_check', 'avif_decode', 'avif_encode', 'avif_version', 'bcn_check', 'bcn_decode', 'bcn_encode', 'bcn_version', 'bitorder_check', 'bitorder_decode', 'bitorder_encode', 'bitorder_version', 'bitshuffle_check', 'bitshuffle_decode', 'bitshuffle_encode', 'bitshuffle_version', 'blosc2_check', 'blosc2_decode', 'blosc2_encode', 'blosc2_version', 'blosc_check', 'blosc_decode', 'blosc_encode', 'blosc_version', 'bmp_check', 'bmp_decode', 'bmp_encode', 'bmp_version', 'brotli_check', 'brotli_decode', 'brotli_encode', 'brotli_version', 'brunsli_check', 'brunsli_decode', 'brunsli_encode', 'brunsli_version', 'byteshuffle_check', 'byteshuffle_decode', 'byteshuffle_encode', 'byteshuffle_version', 'bz2_check', 'bz2_decode', 'bz2_encode', 'bz2_version', 'cms_check', 'cms_decode', 'cms_encode', 'cms_profile', 'cms_profile_validate', 'cms_transform', 'cms_version', 'cython_version', 'dds_check', 'dds_decode', 'dds_encode', 'dds_version', 'deflate_adler32', 'deflate_check', 'deflate_crc32', 'deflate_decode', 'deflate_encode', 'deflate_version', 'delta_check', 'delta_decode', 'delta_encode', 'delta_version', 'dicomrle_check', 'dicomrle_decode', 'dicomrle_encode', 'dicomrle_version', 'eer_check', 'eer_decode', 'eer_encode', 'eer_version', 'float24_check', 'float24_decode', 'float24_encode', 'float24_version', 'floatpred_check', 'floatpred_decode', 'floatpred_encode', 'floatpred_version', 'gif_check', 'gif_decode', 'gif_encode', 'gif_version', 'gzip_check', 'gzip_decode', 'gzip_encode', 'gzip_version', 'h5checksum_crc', 'h5checksum_fletcher32', 'h5checksum_hash_string', 'h5checksum_lookup3', 'h5checksum_metadata', 'h5checksum_version', 'heif_check', 'heif_decode', 'heif_encode', 'heif_version', 'imagefileext', 'imcd_version', 'imread', 'imwrite', 'j2k_decode', 'j2k_encode', 'jetraw_check', 'jetraw_decode', 'jetraw_encode', 'jetraw_init', 'jetraw_version', 'jpeg2k_check', 'jpeg2k_decode', 'jpeg2k_encode', 'jpeg2k_version', 'jpeg8_check', 'jpeg8_decode', 'jpeg8_encode', 'jpeg8_version', 'jpeg_check', 'jpeg_check', 'jpeg_decode', 'jpeg_encode', 'jpeg_version', 'jpeg_version', 'jpegls_check', 'jpegls_decode', 'jpegls_encode', 'jpegls_version', 'jpegsof3_check', 'jpegsof3_decode', 'jpegsof3_encode', 'jpegsof3_version', 'jpegxl_check', 'jpegxl_decode', 'jpegxl_decode_jpeg', 'jpegxl_encode', 'jpegxl_encode_jpeg', 'jpegxl_version', 'jpegxr_check', 'jpegxr_decode', 'jpegxr_encode', 'jpegxr_version', 'jpegxs_check', 'jpegxs_decode', 'jpegxs_encode', 'jpegxs_version', 'jxr_decode', 'jxr_encode', 'lerc_check', 'lerc_decode', 'lerc_encode', 'lerc_version', 'ljpeg_check', 'ljpeg_decode', 'ljpeg_encode', 'ljpeg_version', 'lz4_check', 'lz4_decode', 'lz4_encode', 'lz4_version', 'lz4f_check', 'lz4f_decode', 'lz4f_encode', 'lz4f_version', 'lz4h5_check', 'lz4h5_decode', 'lz4h5_encode', 'lz4h5_version', 'lzf_check', 'lzf_decode', 'lzf_encode', 'lzf_version', 'lzfse_check', 'lzfse_decode', 'lzfse_encode', 'lzfse_version', 'lzham_check', 'lzham_decode', 'lzham_encode', 'lzham_version', 'lzma_check', 'lzma_decode', 'lzma_encode', 'lzma_version', 'lzo_check', 'lzo_decode', 'lzo_encode', 'lzo_version', 'lzw_check', 'lzw_decode', 'lzw_encode', 'lzw_version', 'mozjpeg_check', 'mozjpeg_decode', 'mozjpeg_encode', 'mozjpeg_version', 'none_check', 'none_decode', 'none_encode', 'none_version', 'numpy_abi_version', 'numpy_check', 'numpy_decode', 'numpy_encode', 'numpy_version', 'packbits_check', 'packbits_decode', 'packbits_encode', 'packbits_version', 'packints_check', 'packints_decode', 'packints_encode', 'packints_version', 'pcodec_check', 'pcodec_decode', 'pcodec_encode', 'pcodec_version', 'pglz_check', 'pglz_decode', 'pglz_encode', 'pglz_version', 'png_check', 'png_decode', 'png_encode', 'png_version', 'qoi_check', 'qoi_decode', 'qoi_encode', 'qoi_version', 'quantize_check', 'quantize_decode', 'quantize_encode', 'quantize_version', 'rcomp_check', 'rcomp_decode', 'rcomp_encode', 'rcomp_version', 'rgbe_check', 'rgbe_decode', 'rgbe_encode', 'rgbe_version', 'snappy_check', 'snappy_decode', 'snappy_encode', 'snappy_version', 'sperr_check', 'sperr_decode', 'sperr_encode', 'sperr_version', 'spng_check', 'spng_decode', 'spng_encode', 'spng_version', 'sz3_check', 'sz3_decode', 'sz3_encode', 'sz3_version', 'szip_check', 'szip_decode', 'szip_encode', 'szip_params', 'szip_version', 'tiff_check', 'tiff_decode', 'tiff_encode', 'tiff_version', 'ultrahdr_check', 'ultrahdr_decode', 'ultrahdr_encode', 'ultrahdr_version', 'version', 'webp_check', 'webp_decode', 'webp_encode', 'webp_version', 'xor_check', 'xor_decode', 'xor_encode', 'xor_version', 'zfp_check', 'zfp_decode', 'zfp_encode', 'zfp_version', 'zlib_adler32', 'zlib_check', 'zlib_crc32', 'zlib_decode', 'zlib_encode', 'zlib_version', 'zlibng_adler32', 'zlibng_check', 'zlibng_crc32', 'zlibng_decode', 'zlibng_encode', 'zlibng_version', 'zopfli_check', 'zopfli_check', 'zopfli_decode', 'zopfli_decode', 'zopfli_encode', 'zopfli_version', 'zstd_check', 'zstd_decode', 'zstd_encode', 'zstd_version']\n",
      "Decoded JXR shape: (1440, 2560, 4) dtype: float32\n"
     ]
    }
   ],
   "source": [
    "import imagecodecs\n",
    "\n",
    "# Check what codecs are available\n",
    "print(dir(imagecodecs))\n",
    "\n",
    "# Try to decode a JXR file\n",
    "with open(\"test_hdr\\h_1000006_7.jxr\", \"rb\") as f:\n",
    "    data = f.read()\n",
    "\n",
    "try:\n",
    "    img = imagecodecs.jpegxr_decode(data)\n",
    "    print(\"Decoded JXR shape:\", img.shape, \"dtype:\", img.dtype)\n",
    "except Exception as e:\n",
    "    print(\"Failed to decode JXR:\", e)"
   ]
  },
  {
   "cell_type": "code",
   "execution_count": 14,
   "id": "d8d2c0c0",
   "metadata": {},
   "outputs": [
    {
     "name": "stdout",
     "output_type": "stream",
     "text": [
      "<class 'numpy.ndarray'>\n"
     ]
    }
   ],
   "source": [
    "print(type(img))"
   ]
  },
  {
   "cell_type": "code",
   "execution_count": 7,
   "id": "09808e4f",
   "metadata": {},
   "outputs": [],
   "source": [
    "import numpy as np\n",
    "import OpenEXR, Imath\n",
    "\n",
    "def save_exr(filename, img: np.ndarray):\n",
    "    \"\"\"\n",
    "    Save a float32 NumPy array as EXR.\n",
    "    Supports grayscale (H,W), RGB (H,W,3), RGBA (H,W,4).\n",
    "    \"\"\"\n",
    "    if img.dtype != np.float32:\n",
    "        raise ValueError(\"EXR requires float32 data\")\n",
    "    \n",
    "    H, W = img.shape[:2]\n",
    "    channels = img.shape[2] if img.ndim == 3 else 1\n",
    "\n",
    "    header = OpenEXR.Header(W, H)\n",
    "    FLOAT = Imath.PixelType(Imath.PixelType.FLOAT)\n",
    "    \n",
    "    exr = OpenEXR.OutputFile(filename, header)\n",
    "\n",
    "    if channels == 1:\n",
    "        exr.writePixels({'R': img.tobytes()})\n",
    "    elif channels == 3:\n",
    "        exr.writePixels({\n",
    "            'R': img[:, :, 0].tobytes(),\n",
    "            'G': img[:, :, 1].tobytes(),\n",
    "            'B': img[:, :, 2].tobytes()\n",
    "        })\n",
    "    elif channels == 4:\n",
    "        exr.writePixels({\n",
    "            'R': img[:, :, 0].tobytes(),\n",
    "            'G': img[:, :, 1].tobytes(),\n",
    "            'B': img[:, :, 2].tobytes(),\n",
    "            'A': img[:, :, 3].tobytes()\n",
    "        })\n",
    "    else:\n",
    "        raise ValueError(\"Unsupported number of channels\")\n",
    "    \n",
    "    exr.close()\n",
    "\n",
    "\n",
    "save_exr(\"output.exr\", img)\n",
    "\n"
   ]
  },
  {
   "cell_type": "code",
   "execution_count": 4,
   "id": "6fcc8cdd",
   "metadata": {},
   "outputs": [],
   "source": [
    "save_exr(\"output.exr\", img)"
   ]
  },
  {
   "cell_type": "code",
   "execution_count": 3,
   "id": "b7dab91f",
   "metadata": {},
   "outputs": [
    {
     "name": "stdout",
     "output_type": "stream",
     "text": [
      "{'B': FLOAT (1, 1), 'G': FLOAT (1, 1), 'R': FLOAT (1, 1)}\n"
     ]
    }
   ],
   "source": [
    "import OpenEXR\n",
    "exr = OpenEXR.InputFile(\"output.exr\")\n",
    "print(exr.header()['channels'])"
   ]
  },
  {
   "cell_type": "code",
   "execution_count": 5,
   "id": "f4aadb35",
   "metadata": {},
   "outputs": [
    {
     "name": "stdout",
     "output_type": "stream",
     "text": [
      "c:\\Users\\dekav\\anaconda3\\envs\\rdr-dataset\\Lib\\site-packages\\OpenEXR.cp311-win_amd64.pyd\n"
     ]
    }
   ],
   "source": [
    "import OpenEXR\n",
    "print(OpenEXR.__file__)\n",
    "\n"
   ]
  },
  {
   "cell_type": "code",
   "execution_count": 1,
   "id": "32eef292",
   "metadata": {},
   "outputs": [
    {
     "name": "stdout",
     "output_type": "stream",
     "text": [
      "Channel A: 32-bit float (FLOAT)\n",
      "Channel B: 32-bit float (FLOAT)\n",
      "Channel G: 32-bit float (FLOAT)\n",
      "Channel R: 32-bit float (FLOAT)\n"
     ]
    }
   ],
   "source": [
    "import OpenEXR\n",
    "import Imath\n",
    "\n",
    "def get_exr_bit_depth(filepath):\n",
    "    # Open EXR file\n",
    "    exr_file = OpenEXR.InputFile(filepath)\n",
    "    header = exr_file.header()\n",
    "\n",
    "    # Get channel information\n",
    "    channel_info = {}\n",
    "    for channel, spec in header['channels'].items():\n",
    "        pixel_type = spec.type\n",
    "        if pixel_type == Imath.PixelType(Imath.PixelType.HALF):\n",
    "            bit_depth = \"16-bit float (HALF)\"\n",
    "        elif pixel_type == Imath.PixelType(Imath.PixelType.FLOAT):\n",
    "            bit_depth = \"32-bit float (FLOAT)\"\n",
    "        elif pixel_type == Imath.PixelType(Imath.PixelType.UINT):\n",
    "            bit_depth = \"32-bit unsigned int (UINT)\"\n",
    "        else:\n",
    "            bit_depth = \"Unknown\"\n",
    "        channel_info[channel] = bit_depth\n",
    "\n",
    "    return channel_info\n",
    "\n",
    "\n",
    "# Example usage:\n",
    "filepath = \"converted_exr/h_1000070_7.exr\"\n",
    "bit_depths = get_exr_bit_depth(filepath)\n",
    "\n",
    "for channel, depth in bit_depths.items():\n",
    "    print(f\"Channel {channel}: {depth}\")\n"
   ]
  },
  {
   "cell_type": "code",
   "execution_count": null,
   "id": "8614b537",
   "metadata": {},
   "outputs": [],
   "source": []
  }
 ],
 "metadata": {
  "kernelspec": {
   "display_name": "rdr-dataset",
   "language": "python",
   "name": "python3"
  },
  "language_info": {
   "codemirror_mode": {
    "name": "ipython",
    "version": 3
   },
   "file_extension": ".py",
   "mimetype": "text/x-python",
   "name": "python",
   "nbconvert_exporter": "python",
   "pygments_lexer": "ipython3",
   "version": "3.11.13"
  }
 },
 "nbformat": 4,
 "nbformat_minor": 5
}
